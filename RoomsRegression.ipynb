{
  "nbformat": 4,
  "nbformat_minor": 0,
  "metadata": {
    "colab": {
      "name": "NrCamereClasif.ipynb",
      "provenance": [],
      "collapsed_sections": []
    },
    "kernelspec": {
      "name": "python3",
      "display_name": "Python 3"
    }
  },
  "cells": [
    {
      "cell_type": "markdown",
      "metadata": {
        "id": "S3O_G3ZWORpe"
      },
      "source": [
        "Importing the required packages"
      ]
    },
    {
      "cell_type": "code",
      "metadata": {
        "id": "OLUnqHvVMIkN"
      },
      "source": [
        "import torch\n",
        "import torchvision\n",
        "import matplotlib.pyplot as plt\n",
        "import numpy as np\n",
        "import pandas as pd\n",
        "import torch.nn as nn\n",
        "import torch.nn.functional as F\n",
        "from torch import nn\n",
        "import torch.optim as optim\n",
        "from torchvision import datasets, transforms\n",
        "from torch.utils.data import DataLoader, Dataset\n",
        "from torchvision import datasets, transforms\n",
        "from sklearn.model_selection import train_test_split\n",
        "from sklearn.preprocessing import StandardScaler\n",
        "from sklearn import preprocessing\n",
        "from sklearn.metrics import confusion_matrix, classification_report, accuracy_score, mean_squared_error\n"
      ],
      "execution_count": null,
      "outputs": []
    },
    {
      "cell_type": "markdown",
      "metadata": {
        "id": "mIBMUEC6OjI8"
      },
      "source": [
        "Reading the data"
      ]
    },
    {
      "cell_type": "code",
      "metadata": {
        "colab": {
          "base_uri": "https://localhost:8080/",
          "height": 419
        },
        "id": "-6IimAbuMT6A",
        "outputId": "6f700303-5bde-4e8f-c178-99569eb779d6"
      },
      "source": [
        "dataset = pd.read_csv('Bucharest_HousePriceDataset.csv')\n",
        "dataset"
      ],
      "execution_count": null,
      "outputs": [
        {
          "output_type": "execute_result",
          "data": {
            "text/html": [
              "<div>\n",
              "<style scoped>\n",
              "    .dataframe tbody tr th:only-of-type {\n",
              "        vertical-align: middle;\n",
              "    }\n",
              "\n",
              "    .dataframe tbody tr th {\n",
              "        vertical-align: top;\n",
              "    }\n",
              "\n",
              "    .dataframe thead th {\n",
              "        text-align: right;\n",
              "    }\n",
              "</style>\n",
              "<table border=\"1\" class=\"dataframe\">\n",
              "  <thead>\n",
              "    <tr style=\"text-align: right;\">\n",
              "      <th></th>\n",
              "      <th>Nr Camere</th>\n",
              "      <th>Suprafata</th>\n",
              "      <th>Etaj</th>\n",
              "      <th>Total Etaje</th>\n",
              "      <th>Sector</th>\n",
              "      <th>Scor</th>\n",
              "      <th>Pret</th>\n",
              "    </tr>\n",
              "  </thead>\n",
              "  <tbody>\n",
              "    <tr>\n",
              "      <th>0</th>\n",
              "      <td>4</td>\n",
              "      <td>108.00</td>\n",
              "      <td>2</td>\n",
              "      <td>3</td>\n",
              "      <td>4</td>\n",
              "      <td>5</td>\n",
              "      <td>83000</td>\n",
              "    </tr>\n",
              "    <tr>\n",
              "      <th>1</th>\n",
              "      <td>1</td>\n",
              "      <td>41.00</td>\n",
              "      <td>1</td>\n",
              "      <td>8</td>\n",
              "      <td>1</td>\n",
              "      <td>1</td>\n",
              "      <td>39900</td>\n",
              "    </tr>\n",
              "    <tr>\n",
              "      <th>2</th>\n",
              "      <td>3</td>\n",
              "      <td>63.52</td>\n",
              "      <td>1</td>\n",
              "      <td>3</td>\n",
              "      <td>2</td>\n",
              "      <td>3</td>\n",
              "      <td>84900</td>\n",
              "    </tr>\n",
              "    <tr>\n",
              "      <th>3</th>\n",
              "      <td>1</td>\n",
              "      <td>33.00</td>\n",
              "      <td>3</td>\n",
              "      <td>10</td>\n",
              "      <td>5</td>\n",
              "      <td>1</td>\n",
              "      <td>45500</td>\n",
              "    </tr>\n",
              "    <tr>\n",
              "      <th>4</th>\n",
              "      <td>2</td>\n",
              "      <td>62.00</td>\n",
              "      <td>5</td>\n",
              "      <td>9</td>\n",
              "      <td>5</td>\n",
              "      <td>5</td>\n",
              "      <td>54900</td>\n",
              "    </tr>\n",
              "    <tr>\n",
              "      <th>...</th>\n",
              "      <td>...</td>\n",
              "      <td>...</td>\n",
              "      <td>...</td>\n",
              "      <td>...</td>\n",
              "      <td>...</td>\n",
              "      <td>...</td>\n",
              "      <td>...</td>\n",
              "    </tr>\n",
              "    <tr>\n",
              "      <th>3524</th>\n",
              "      <td>3</td>\n",
              "      <td>102.00</td>\n",
              "      <td>2</td>\n",
              "      <td>5</td>\n",
              "      <td>1</td>\n",
              "      <td>1</td>\n",
              "      <td>189000</td>\n",
              "    </tr>\n",
              "    <tr>\n",
              "      <th>3525</th>\n",
              "      <td>4</td>\n",
              "      <td>96.00</td>\n",
              "      <td>1</td>\n",
              "      <td>3</td>\n",
              "      <td>3</td>\n",
              "      <td>2</td>\n",
              "      <td>200000</td>\n",
              "    </tr>\n",
              "    <tr>\n",
              "      <th>3526</th>\n",
              "      <td>1</td>\n",
              "      <td>35.00</td>\n",
              "      <td>1</td>\n",
              "      <td>3</td>\n",
              "      <td>4</td>\n",
              "      <td>5</td>\n",
              "      <td>47000</td>\n",
              "    </tr>\n",
              "    <tr>\n",
              "      <th>3527</th>\n",
              "      <td>2</td>\n",
              "      <td>60.00</td>\n",
              "      <td>6</td>\n",
              "      <td>7</td>\n",
              "      <td>1</td>\n",
              "      <td>2</td>\n",
              "      <td>89500</td>\n",
              "    </tr>\n",
              "    <tr>\n",
              "      <th>3528</th>\n",
              "      <td>3</td>\n",
              "      <td>80.00</td>\n",
              "      <td>3</td>\n",
              "      <td>5</td>\n",
              "      <td>1</td>\n",
              "      <td>2</td>\n",
              "      <td>139000</td>\n",
              "    </tr>\n",
              "  </tbody>\n",
              "</table>\n",
              "<p>3529 rows × 7 columns</p>\n",
              "</div>"
            ],
            "text/plain": [
              "      Nr Camere  Suprafata  Etaj  Total Etaje  Sector  Scor    Pret\n",
              "0             4     108.00     2            3       4     5   83000\n",
              "1             1      41.00     1            8       1     1   39900\n",
              "2             3      63.52     1            3       2     3   84900\n",
              "3             1      33.00     3           10       5     1   45500\n",
              "4             2      62.00     5            9       5     5   54900\n",
              "...         ...        ...   ...          ...     ...   ...     ...\n",
              "3524          3     102.00     2            5       1     1  189000\n",
              "3525          4      96.00     1            3       3     2  200000\n",
              "3526          1      35.00     1            3       4     5   47000\n",
              "3527          2      60.00     6            7       1     2   89500\n",
              "3528          3      80.00     3            5       1     2  139000\n",
              "\n",
              "[3529 rows x 7 columns]"
            ]
          },
          "metadata": {
            "tags": []
          },
          "execution_count": 15
        }
      ]
    },
    {
      "cell_type": "markdown",
      "metadata": {
        "id": "Vix1Ba65OrY5"
      },
      "source": [
        "Bringing a data into a pyTorch friendly format, then splitting it into training and test sets."
      ]
    },
    {
      "cell_type": "code",
      "metadata": {
        "id": "Es_vO9BwQbPm"
      },
      "source": [
        "X = dataset.iloc[: ,1:].values\n",
        "y = dataset.iloc[: ,0]\n",
        "y= torch.Tensor(y.values.reshape(y.size, 1))\n",
        "y = y - 1"
      ],
      "execution_count": null,
      "outputs": []
    },
    {
      "cell_type": "code",
      "metadata": {
        "id": "ZnY_I14fdfgv"
      },
      "source": [
        "X_train, X_val, y_train, y_val = train_test_split(X, y, train_size = 0.9, random_state = 1)"
      ],
      "execution_count": null,
      "outputs": []
    },
    {
      "cell_type": "code",
      "metadata": {
        "id": "K3lwdQFUbKan"
      },
      "source": [
        "sc = preprocessing.StandardScaler()\n",
        "X_train = sc.fit_transform(X_train)\n",
        "X_val = sc.transform(X_val)"
      ],
      "execution_count": null,
      "outputs": []
    },
    {
      "cell_type": "code",
      "metadata": {
        "id": "Sssl5Mac4zwq"
      },
      "source": [
        "X_train = torch.Tensor(X_train)\n",
        "X_val = torch.Tensor(X_val)"
      ],
      "execution_count": null,
      "outputs": []
    },
    {
      "cell_type": "markdown",
      "metadata": {
        "id": "BCHO-FJfSbc7"
      },
      "source": [
        "Defining the classification model\n"
      ]
    },
    {
      "cell_type": "code",
      "metadata": {
        "id": "FAYbDG4Zry1w"
      },
      "source": [
        "class Classifier(nn.Module):\n",
        "  def __init__(self, D_in, H1, D_out):\n",
        "    super().__init__()\n",
        "    self.linear1 = nn.Linear(D_in, H1)\n",
        "    self.linear2 = nn.Linear(H1, D_out)\n",
        "  def forward(self, x):\n",
        "    x = torch.relu(self.linear1(x))\n",
        "    x = self.linear2(x)\n",
        "    return x"
      ],
      "execution_count": null,
      "outputs": []
    },
    {
      "cell_type": "code",
      "metadata": {
        "colab": {
          "base_uri": "https://localhost:8080/"
        },
        "id": "8feX70q5scTj",
        "outputId": "dd2c0616-f164-40f6-85ea-8ffe5f33472b"
      },
      "source": [
        "torch.manual_seed(2)\n",
        "model = Classifier(6, 300, 9)\n",
        "model"
      ],
      "execution_count": null,
      "outputs": [
        {
          "output_type": "execute_result",
          "data": {
            "text/plain": [
              "Classifier(\n",
              "  (linear1): Linear(in_features=6, out_features=300, bias=True)\n",
              "  (linear2): Linear(in_features=300, out_features=9, bias=True)\n",
              ")"
            ]
          },
          "metadata": {
            "tags": []
          },
          "execution_count": 21
        }
      ]
    },
    {
      "cell_type": "code",
      "metadata": {
        "id": "GPUCVu6ys0vu"
      },
      "source": [
        "criterion = nn.CrossEntropyLoss()\n",
        "optimizer = optim.Adam(model.parameters(), lr=0.001)"
      ],
      "execution_count": null,
      "outputs": []
    },
    {
      "cell_type": "markdown",
      "metadata": {
        "id": "-3Wn-fiKA1xG"
      },
      "source": [
        "Training the model"
      ]
    },
    {
      "cell_type": "code",
      "metadata": {
        "id": "a-ZiIdIrs5W4"
      },
      "source": [
        "epochs = 600\n",
        "train_losses = []\n",
        "val_losses = []\n",
        "for e in range(epochs):\n",
        "  X_train = X_train.view(X_train.shape[0], -1)\n",
        "  y_pred = model(X_train) \n",
        "  labels = torch.tensor(y_train).long().squeeze(1)\n",
        "  loss = criterion(y_pred, labels)\n",
        "  print(\"epoch:\", e, \"loss:\", loss.item())\n",
        "  train_losses.append(loss.item())\n",
        "  optimizer.zero_grad()\n",
        "  loss.backward()\n",
        "  optimizer.step()\n",
        "\n",
        "  model.eval() \n",
        "  with torch.no_grad():\n",
        "    val_labels = torch.tensor(y_val).long().squeeze(1)\n",
        "    pred_y_val = model(X_val)\n",
        "    val_loss = F.cross_entropy(pred_y_val, val_labels)\n",
        "    val_losses.append(val_loss)\n"
      ],
      "execution_count": null,
      "outputs": []
    },
    {
      "cell_type": "markdown",
      "metadata": {
        "id": "WmXu8vXIA5wi"
      },
      "source": [
        "Plotting the losses at every epoch"
      ]
    },
    {
      "cell_type": "code",
      "metadata": {
        "colab": {
          "base_uri": "https://localhost:8080/",
          "height": 282
        },
        "id": "J-wBgqpG6bAi",
        "outputId": "3191c21a-b5b4-4daa-9943-f25f0a388229"
      },
      "source": [
        "plt.plot(train_losses, label='train-loss', color=\"red\")\n",
        "plt.plot(val_losses, label='val-loss')"
      ],
      "execution_count": null,
      "outputs": [
        {
          "output_type": "execute_result",
          "data": {
            "text/plain": [
              "[<matplotlib.lines.Line2D at 0x7f34fc010290>]"
            ]
          },
          "metadata": {
            "tags": []
          },
          "execution_count": 24
        },
        {
          "output_type": "display_data",
          "data": {
            "image/png": "[encoded data removed]",
            "text/plain": [
              "<Figure size 432x288 with 1 Axes>"
            ]
          },
          "metadata": {
            "tags": [],
            "needs_background": "light"
          }
        }
      ]
    },
    {
      "cell_type": "markdown",
      "metadata": {
        "id": "JCigYIr7Sjxz"
      },
      "source": [
        "Calculating the accuracy"
      ]
    },
    {
      "cell_type": "code",
      "metadata": {
        "colab": {
          "base_uri": "https://localhost:8080/"
        },
        "id": "gUWrzeaI36Si",
        "outputId": "ad99bbbd-579a-4cb0-a851-005793d524f2"
      },
      "source": [
        "accuracy_train = accuracy_score(y_train.detach().numpy(), np.argmax(y_pred.detach().numpy(), axis=1))\n",
        "print(accuracy_train)\n",
        "\n",
        "accuracy_val = accuracy_score(y_val.detach().numpy(), np.argmax(pred_y_val.detach().numpy(), axis=1))\n",
        "print(accuracy_val)"
      ],
      "execution_count": null,
      "outputs": [
        {
          "output_type": "stream",
          "text": [
            "0.8035264483627204\n",
            "0.7903682719546742\n"
          ],
          "name": "stdout"
        }
      ]
    },
    {
      "cell_type": "code",
      "metadata": {
        "colab": {
          "base_uri": "https://localhost:8080/"
        },
        "id": "la61_rzlObTy",
        "outputId": "d9938038-99ea-408e-95e4-d88b88e124b7"
      },
      "source": [
        "cm = confusion_matrix(np.argmax(pred_y_val, axis=1), y_val.numpy())\n",
        "cm"
      ],
      "execution_count": null,
      "outputs": [
        {
          "output_type": "execute_result",
          "data": {
            "text/plain": [
              "array([[ 32,   6,   0,   0,   0,   0],\n",
              "       [  7, 131,  11,   1,   0,   0],\n",
              "       [  0,  13, 102,  16,   1,   0],\n",
              "       [  0,   0,  12,  13,   5,   0],\n",
              "       [  0,   0,   0,   1,   1,   1],\n",
              "       [  0,   0,   0,   0,   0,   0]])"
            ]
          },
          "metadata": {
            "tags": []
          },
          "execution_count": 27
        }
      ]
    }
  ]
}