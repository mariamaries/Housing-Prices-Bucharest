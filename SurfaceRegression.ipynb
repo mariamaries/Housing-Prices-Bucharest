{
  "nbformat": 4,
  "nbformat_minor": 0,
  "metadata": {
    "colab": {
      "name": "SuprafataRegresie.ipynb",
      "provenance": [],
      "collapsed_sections": []
    },
    "kernelspec": {
      "name": "python3",
      "display_name": "Python 3"
    }
  },
  "cells": [
    {
      "cell_type": "markdown",
      "metadata": {
        "id": "ojtlJffPP7sq"
      },
      "source": [
        "Using the Housing Price Dataset, this project wants to predict the surface of a property using regression."
      ]
    },
    {
      "cell_type": "markdown",
      "metadata": {
        "id": "mgZ5GLALPgPb"
      },
      "source": [
        "Importing the required packages"
      ]
    },
    {
      "cell_type": "code",
      "metadata": {
        "id": "GMAJyMlpzuE1"
      },
      "source": [
        "import torch\n",
        "import torchvision\n",
        "import matplotlib.pyplot as plt\n",
        "import numpy as np\n",
        "import pandas as pd\n",
        "import torch.nn.functional as F\n",
        "from torch import nn\n",
        "from torchvision import datasets, transforms\n",
        "from torch.utils.data import DataLoader, Dataset\n",
        "from torchvision import transforms\n",
        "from sklearn.model_selection import train_test_split\n",
        "from sklearn.preprocessing import StandardScaler\n",
        "from sklearn import preprocessing\n",
        "from sklearn.metrics import confusion_matrix, accuracy_score, mean_squared_error"
      ],
      "execution_count": null,
      "outputs": []
    },
    {
      "cell_type": "markdown",
      "metadata": {
        "id": "qyvJB-giPmK-"
      },
      "source": [
        "Importing the dataset"
      ]
    },
    {
      "cell_type": "code",
      "metadata": {
        "colab": {
          "base_uri": "https://localhost:8080/",
          "height": 419
        },
        "id": "TbFPaCUazzRd",
        "outputId": "6337de6d-a6f7-4b53-e621-17cb61c5e30d"
      },
      "source": [
        "dataset = pd.read_csv('Bucharest_HousePriceDataset.csv')\n",
        "dataset"
      ],
      "execution_count": null,
      "outputs": [
        {
          "output_type": "execute_result",
          "data": {
            "text/html": [
              "<div>\n",
              "<style scoped>\n",
              "    .dataframe tbody tr th:only-of-type {\n",
              "        vertical-align: middle;\n",
              "    }\n",
              "\n",
              "    .dataframe tbody tr th {\n",
              "        vertical-align: top;\n",
              "    }\n",
              "\n",
              "    .dataframe thead th {\n",
              "        text-align: right;\n",
              "    }\n",
              "</style>\n",
              "<table border=\"1\" class=\"dataframe\">\n",
              "  <thead>\n",
              "    <tr style=\"text-align: right;\">\n",
              "      <th></th>\n",
              "      <th>Nr Camere</th>\n",
              "      <th>Suprafata</th>\n",
              "      <th>Etaj</th>\n",
              "      <th>Total Etaje</th>\n",
              "      <th>Sector</th>\n",
              "      <th>Scor</th>\n",
              "      <th>Pret</th>\n",
              "    </tr>\n",
              "  </thead>\n",
              "  <tbody>\n",
              "    <tr>\n",
              "      <th>0</th>\n",
              "      <td>4</td>\n",
              "      <td>108.00</td>\n",
              "      <td>2</td>\n",
              "      <td>3</td>\n",
              "      <td>4</td>\n",
              "      <td>5</td>\n",
              "      <td>83000</td>\n",
              "    </tr>\n",
              "    <tr>\n",
              "      <th>1</th>\n",
              "      <td>1</td>\n",
              "      <td>41.00</td>\n",
              "      <td>1</td>\n",
              "      <td>8</td>\n",
              "      <td>1</td>\n",
              "      <td>1</td>\n",
              "      <td>39900</td>\n",
              "    </tr>\n",
              "    <tr>\n",
              "      <th>2</th>\n",
              "      <td>3</td>\n",
              "      <td>63.52</td>\n",
              "      <td>1</td>\n",
              "      <td>3</td>\n",
              "      <td>2</td>\n",
              "      <td>3</td>\n",
              "      <td>84900</td>\n",
              "    </tr>\n",
              "    <tr>\n",
              "      <th>3</th>\n",
              "      <td>1</td>\n",
              "      <td>33.00</td>\n",
              "      <td>3</td>\n",
              "      <td>10</td>\n",
              "      <td>5</td>\n",
              "      <td>1</td>\n",
              "      <td>45500</td>\n",
              "    </tr>\n",
              "    <tr>\n",
              "      <th>4</th>\n",
              "      <td>2</td>\n",
              "      <td>62.00</td>\n",
              "      <td>5</td>\n",
              "      <td>9</td>\n",
              "      <td>5</td>\n",
              "      <td>5</td>\n",
              "      <td>54900</td>\n",
              "    </tr>\n",
              "    <tr>\n",
              "      <th>...</th>\n",
              "      <td>...</td>\n",
              "      <td>...</td>\n",
              "      <td>...</td>\n",
              "      <td>...</td>\n",
              "      <td>...</td>\n",
              "      <td>...</td>\n",
              "      <td>...</td>\n",
              "    </tr>\n",
              "    <tr>\n",
              "      <th>3524</th>\n",
              "      <td>3</td>\n",
              "      <td>102.00</td>\n",
              "      <td>2</td>\n",
              "      <td>5</td>\n",
              "      <td>1</td>\n",
              "      <td>1</td>\n",
              "      <td>189000</td>\n",
              "    </tr>\n",
              "    <tr>\n",
              "      <th>3525</th>\n",
              "      <td>4</td>\n",
              "      <td>96.00</td>\n",
              "      <td>1</td>\n",
              "      <td>3</td>\n",
              "      <td>3</td>\n",
              "      <td>2</td>\n",
              "      <td>200000</td>\n",
              "    </tr>\n",
              "    <tr>\n",
              "      <th>3526</th>\n",
              "      <td>1</td>\n",
              "      <td>35.00</td>\n",
              "      <td>1</td>\n",
              "      <td>3</td>\n",
              "      <td>4</td>\n",
              "      <td>5</td>\n",
              "      <td>47000</td>\n",
              "    </tr>\n",
              "    <tr>\n",
              "      <th>3527</th>\n",
              "      <td>2</td>\n",
              "      <td>60.00</td>\n",
              "      <td>6</td>\n",
              "      <td>7</td>\n",
              "      <td>1</td>\n",
              "      <td>2</td>\n",
              "      <td>89500</td>\n",
              "    </tr>\n",
              "    <tr>\n",
              "      <th>3528</th>\n",
              "      <td>3</td>\n",
              "      <td>80.00</td>\n",
              "      <td>3</td>\n",
              "      <td>5</td>\n",
              "      <td>1</td>\n",
              "      <td>2</td>\n",
              "      <td>139000</td>\n",
              "    </tr>\n",
              "  </tbody>\n",
              "</table>\n",
              "<p>3529 rows × 7 columns</p>\n",
              "</div>"
            ],
            "text/plain": [
              "      Nr Camere  Suprafata  Etaj  Total Etaje  Sector  Scor    Pret\n",
              "0             4     108.00     2            3       4     5   83000\n",
              "1             1      41.00     1            8       1     1   39900\n",
              "2             3      63.52     1            3       2     3   84900\n",
              "3             1      33.00     3           10       5     1   45500\n",
              "4             2      62.00     5            9       5     5   54900\n",
              "...         ...        ...   ...          ...     ...   ...     ...\n",
              "3524          3     102.00     2            5       1     1  189000\n",
              "3525          4      96.00     1            3       3     2  200000\n",
              "3526          1      35.00     1            3       4     5   47000\n",
              "3527          2      60.00     6            7       1     2   89500\n",
              "3528          3      80.00     3            5       1     2  139000\n",
              "\n",
              "[3529 rows x 7 columns]"
            ]
          },
          "metadata": {
            "tags": []
          },
          "execution_count": 2
        }
      ]
    },
    {
      "cell_type": "markdown",
      "metadata": {
        "id": "mGQPLzI9PsFT"
      },
      "source": [
        "We modify the data into a Pytorch friendly format, and then we separate it into training and testing."
      ]
    },
    {
      "cell_type": "code",
      "metadata": {
        "id": "pg7tcLF7z7I6"
      },
      "source": [
        "X = dataset.iloc[: ,[0,2,3,4,5,6]].values\n",
        "y = dataset.iloc[: ,1].values\n",
        "y = y.reshape(y.size, 1)"
      ],
      "execution_count": null,
      "outputs": []
    },
    {
      "cell_type": "code",
      "metadata": {
        "id": "bGlKOxkOz_KF"
      },
      "source": [
        "X_train, X_val, y_train, y_val = train_test_split(X, y, test_size=0.2, random_state=1)"
      ],
      "execution_count": null,
      "outputs": []
    },
    {
      "cell_type": "code",
      "metadata": {
        "id": "8LTtD-BQ0KPY"
      },
      "source": [
        "sc = preprocessing.StandardScaler()\n",
        "X_train = sc.fit_transform(X_train)\n",
        "X_val = sc.transform(X_val)\n",
        "y_train = sc.fit_transform(y_train)\n",
        "y_val = sc.transform(y_val)"
      ],
      "execution_count": null,
      "outputs": []
    },
    {
      "cell_type": "code",
      "metadata": {
        "id": "idn8-SgN0K00"
      },
      "source": [
        "X_train = torch.Tensor(X_train)\n",
        "X_val = torch.Tensor(X_val)\n",
        "y_train = torch.Tensor(y_train)\n",
        "y_val = torch.Tensor(y_val)"
      ],
      "execution_count": null,
      "outputs": []
    },
    {
      "cell_type": "markdown",
      "metadata": {
        "id": "07tpq_4HT3pC"
      },
      "source": [
        "Defining the linear regression model"
      ]
    },
    {
      "cell_type": "code",
      "metadata": {
        "id": "SK0GmSwy0K54"
      },
      "source": [
        "class LR(nn.Module):\n",
        "  def __init__(self, input_size, output_size):\n",
        "    super().__init__()\n",
        "    self.linear = nn.Linear(input_size, output_size)\n",
        "  def forward(self, x):\n",
        "    pred = self.linear(x)\n",
        "    return pred"
      ],
      "execution_count": null,
      "outputs": []
    },
    {
      "cell_type": "code",
      "metadata": {
        "id": "l4wb4IG_417N"
      },
      "source": [
        "torch.manual_seed(1)\n",
        "model = LR(6, 1)\n",
        "[w, b] = model.parameters()\n",
        "\n",
        "def get_params():\n",
        "  return (w[0][0].item(), b[0].item())"
      ],
      "execution_count": null,
      "outputs": []
    },
    {
      "cell_type": "code",
      "metadata": {
        "id": "2IgZ1eK_5gM9"
      },
      "source": [
        "criterion = nn.MSELoss()\n",
        "optimizer = torch.optim.SGD(model.parameters(), lr = 0.1)"
      ],
      "execution_count": null,
      "outputs": []
    },
    {
      "cell_type": "code",
      "metadata": {
        "id": "Tr--iHp_5lPE"
      },
      "source": [
        "epochs = 500\n",
        "losses = []\n",
        "for i in range(epochs):\n",
        "  y_pred = model(X_train)\n",
        "  loss = criterion(y_pred, y_train)\n",
        "  print(\"epoch:\", i, \"loss:\", loss.item())\n",
        "\n",
        "  losses.append(loss)\n",
        "  optimizer.zero_grad()\n",
        "  loss.backward()\n",
        "  optimizer.step()\n"
      ],
      "execution_count": null,
      "outputs": []
    },
    {
      "cell_type": "code",
      "metadata": {
        "colab": {
          "base_uri": "https://localhost:8080/",
          "height": 296
        },
        "id": "o_VyadhyPbxa",
        "outputId": "987ea2e6-7dba-4ea2-c174-ddc2b2dae3e4"
      },
      "source": [
        "plt.plot(range(epochs), losses)\n",
        "plt.ylabel('Loss')\n",
        "plt.xlabel(\"epoch\")"
      ],
      "execution_count": null,
      "outputs": [
        {
          "output_type": "execute_result",
          "data": {
            "text/plain": [
              "Text(0.5, 0, 'epoch')"
            ]
          },
          "metadata": {
            "tags": []
          },
          "execution_count": 12
        },
        {
          "output_type": "display_data",
          "data": {
            "image/png": "[encoded data removed]",
            "text/plain": [
              "<Figure size 432x288 with 1 Axes>"
            ]
          },
          "metadata": {
            "tags": [],
            "needs_background": "light"
          }
        }
      ]
    },
    {
      "cell_type": "markdown",
      "metadata": {
        "id": "GYIzfJaBMjXZ"
      },
      "source": [
        "Calculating the accuracy of the model\n"
      ]
    },
    {
      "cell_type": "code",
      "metadata": {
        "colab": {
          "base_uri": "https://localhost:8080/"
        },
        "id": "7hv5FQk85zoE",
        "outputId": "0cd34f54-6fa0-4938-cf8a-49eab59d51ee"
      },
      "source": [
        "with torch.no_grad():\n",
        "    y_pred = model(X_train)\n",
        "accuracy = (abs(y_pred.round() - y_train.numpy()) <= 0.6).sum()/y_pred.shape[0]\n",
        "print(accuracy)"
      ],
      "execution_count": null,
      "outputs": [
        {
          "output_type": "stream",
          "text": [
            "tensor(0.7697)\n"
          ],
          "name": "stdout"
        }
      ]
    },
    {
      "cell_type": "code",
      "metadata": {
        "colab": {
          "base_uri": "https://localhost:8080/"
        },
        "id": "gnQ1rDpkTSJP",
        "outputId": "9e0746b8-4999-4f26-b241-d9dd16eebbd4"
      },
      "source": [
        "with torch.no_grad():\n",
        "    pred_y_val = model(X_val)\n",
        "accuracy = (abs(pred_y_val.round() - y_val.numpy()) <= 0.6).sum()/pred_y_val.shape[0]\n",
        "print(accuracy)"
      ],
      "execution_count": null,
      "outputs": [
        {
          "output_type": "stream",
          "text": [
            "tensor(0.7564)\n"
          ],
          "name": "stdout"
        }
      ]
    },
    {
      "cell_type": "code",
      "metadata": {
        "colab": {
          "base_uri": "https://localhost:8080/"
        },
        "id": "12-wbN94Tup7",
        "outputId": "86338beb-324b-47cc-dd67-9e5d79a568b5"
      },
      "source": [
        "mse = mean_squared_error(y_pred, y_train)\n",
        "mse"
      ],
      "execution_count": null,
      "outputs": [
        {
          "output_type": "execute_result",
          "data": {
            "text/plain": [
              "0.19735768"
            ]
          },
          "metadata": {
            "tags": []
          },
          "execution_count": 24
        }
      ]
    },
    {
      "cell_type": "markdown",
      "metadata": {
        "id": "YYIxbYbUT-0h"
      },
      "source": [
        "As opposed to the other problem solved by using regression, here the Mean Squared Error is a lot smaller, which indicates the fact that the property surface is a much better characteristic for a regression problem."
      ]
    }
  ]
}